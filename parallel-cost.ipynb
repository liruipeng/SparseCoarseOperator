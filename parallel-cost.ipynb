{
 "cells": [
  {
   "cell_type": "code",
   "execution_count": null,
   "id": "5acf6300-ebc0-4e3c-aadb-45a286049daf",
   "metadata": {},
   "outputs": [],
   "source": [
    "import matplotlib.pylab as plt\n",
    "import numpy as np\n",
    "N = 6\n",
    "top = (63.89, 13.37, 33.61, 6.83, 2.82, 0)\n",
    "bot = (33.53, 95.62, 239.95, 114.65, 11.62, 2.9)\n",
    "ind = np.arange(N)+1 # the x locations for the groups\n",
    "width = 0.35\n",
    "fig = plt.figure()\n",
    "ax = fig.add_axes([0,0,1,1])\n",
    "ax.bar(ind, top, width,bottom=bot, color='deepskyblue')\n",
    "ax.bar(ind, bot, width, color='orange')\n",
    "ax.set_xlabel('Levels in multigrid hierarchy', fontsize = 14)\n",
    "ax.set_ylabel('Time', fontsize = 14)\n",
    "ax.get_yaxis().set_ticks([])\n",
    "ax.legend(labels=['Computation','Communication'])\n",
    "plt.show()\n",
    "fig.savefig('../communication.png',bbox_inches='tight',dpi=300)"
   ]
  },
  {
   "cell_type": "code",
   "execution_count": null,
   "id": "765008db-3022-44ff-93de-f36ada319d59",
   "metadata": {},
   "outputs": [],
   "source": []
  }
 ],
 "metadata": {
  "kernelspec": {
   "display_name": "Python 3 (ipykernel)",
   "language": "python",
   "name": "python3"
  },
  "language_info": {
   "codemirror_mode": {
    "name": "ipython",
    "version": 3
   },
   "file_extension": ".py",
   "mimetype": "text/x-python",
   "name": "python",
   "nbconvert_exporter": "python",
   "pygments_lexer": "ipython3",
   "version": "3.8.10"
  }
 },
 "nbformat": 4,
 "nbformat_minor": 5
}
